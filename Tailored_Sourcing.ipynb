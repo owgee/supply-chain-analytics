{
  "cells": [
    {
      "cell_type": "markdown",
      "metadata": {
        "id": "view-in-github",
        "colab_type": "text"
      },
      "source": [
        "<a href=\"https://colab.research.google.com/github/owgee/supply-chain-analytics/blob/main/Tailored_Sourcing.ipynb\" target=\"_parent\"><img src=\"https://colab.research.google.com/assets/colab-badge.svg\" alt=\"Open In Colab\"/></a>"
      ]
    },
    {
      "cell_type": "markdown",
      "id": "ae9d6adc-75c6-498e-ba17-29655279ec9d",
      "metadata": {
        "id": "ae9d6adc-75c6-498e-ba17-29655279ec9d"
      },
      "source": [
        "### 1. Products are sourced independently;"
      ]
    },
    {
      "cell_type": "code",
      "execution_count": 1,
      "id": "5bab3761-c308-48ae-ab2c-a988fcbbdba9",
      "metadata": {
        "colab": {
          "base_uri": "https://localhost:8080/"
        },
        "id": "5bab3761-c308-48ae-ab2c-a988fcbbdba9",
        "outputId": "5d9e2ec1-18e4-48c0-c7a2-fa48d9b676bd"
      },
      "outputs": [
        {
          "output_type": "stream",
          "name": "stdout",
          "text": [
            "Product 1 - EOQ: 148.32, Total Cost: 1483.24\n",
            "Product 2 - EOQ: 77.46, Total Cost: 929.52\n",
            "Product 3 - EOQ: 64.55, Total Cost: 387.30\n",
            "Product 4 - EOQ: 45.64, Total Cost: 273.86\n",
            "Total Annual Cost: 3073.92\n"
          ]
        }
      ],
      "source": [
        "import math\n",
        "\n",
        "products = {\n",
        "    'Product 1': {'Demand': 1000, 'Ordering_cost': 10, 'Unit_cost': 50, 'Holding_cost_rate': 0.2},\n",
        "    'Product 2': {'Demand': 300, 'Ordering_cost': 20, 'Unit_cost': 60, 'Holding_cost_rate': 0.2},\n",
        "    'Product 3': {'Demand': 100, 'Ordering_cost': 25, 'Unit_cost': 30, 'Holding_cost_rate': 0.2},\n",
        "    'Product 4': {'Demand': 50, 'Ordering_cost': 25, 'Unit_cost': 30, 'Holding_cost_rate': 0.2},\n",
        "}\n",
        "common_cost = 100;\n",
        "\n",
        "# EOQ Calculation\n",
        "def calculate_eoq(product_info):\n",
        "    D = product_info['Demand']\n",
        "    S = product_info['Ordering_cost'] + common_cost\n",
        "    H = product_info['Unit_cost'] * product_info['Holding_cost_rate']\n",
        "    return math.sqrt((2 * D * S) / H)\n",
        "\n",
        "# Total Cost Calculation for EOQ\n",
        "def calculate_total_cost(product_info, eoq):\n",
        "    D = product_info['Demand']\n",
        "    S = product_info['Ordering_cost'] + common_cost\n",
        "    H = product_info['Unit_cost'] * product_info['Holding_cost_rate']\n",
        "    total_ordering_cost = D * S / eoq\n",
        "    total_holding_cost = eoq * H / 2\n",
        "    return total_ordering_cost + total_holding_cost\n",
        "\n",
        "# Calculate EOQ and total cost for each product\n",
        "total_annual_cost=0\n",
        "for product in products:\n",
        "    eoq = calculate_eoq(products[product])\n",
        "    total_cost = calculate_total_cost(products[product], eoq)\n",
        "    total_annual_cost += total_cost\n",
        "    print(f\"{product} - EOQ: {eoq:.2f}, Total Cost: {total_cost:.2f}\")\n",
        "print(f\"Total Annual Cost: {total_annual_cost:.2f}\")"
      ]
    },
    {
      "cell_type": "markdown",
      "id": "df723a2b-56a9-4a06-bbcd-f36e78d783b3",
      "metadata": {
        "id": "df723a2b-56a9-4a06-bbcd-f36e78d783b3"
      },
      "source": [
        "### 2. All four products are sourced with the same frequency;"
      ]
    },
    {
      "cell_type": "code",
      "execution_count": 2,
      "id": "1f56fb68-8446-492e-961e-7243be022140",
      "metadata": {
        "colab": {
          "base_uri": "https://localhost:8080/"
        },
        "id": "1f56fb68-8446-492e-961e-7243be022140",
        "outputId": "260cd1cc-0135-49dc-e5c1-41328fd02eab"
      },
      "outputs": [
        {
          "output_type": "stream",
          "name": "stdout",
          "text": [
            "The annual total cost is: 2284.73\n"
          ]
        }
      ],
      "source": [
        "import numpy as np\n",
        "\n",
        "# Given data from the problem statement\n",
        "demand = [1000, 300, 100, 50]\n",
        "specific_ordering_costs = [10, 20, 25, 25]\n",
        "unit_cost = [50, 60, 30, 30]\n",
        "holding_cost_rate = 0.2\n",
        "common_ordering_cost = 100   # Provided common ordering cost\n",
        "\n",
        "# Calculate the total demand times holding cost times unit cost\n",
        "total_d_h_c = sum(d * uc * holding_cost_rate for d, uc in zip(demand, unit_cost))\n",
        "\n",
        "# Calculate the total specific ordering costs\n",
        "total_specific_ordering_cost = sum(specific_ordering_costs)\n",
        "S = common_ordering_cost + total_specific_ordering_cost\n",
        "\n",
        "# Calculate n*, the order frequency using the provided common ordering cost and total specific ordering costs\n",
        "n_star = np.sqrt((total_d_h_c) / (2 * S))\n",
        "\n",
        "annual_total_cost = n_star * 2 * S\n",
        "print(f\"The annual total cost is: {annual_total_cost:.2f}\")"
      ]
    },
    {
      "cell_type": "markdown",
      "id": "bb0b8144-7fed-4cea-849f-00b7708aff8f",
      "metadata": {
        "id": "bb0b8144-7fed-4cea-849f-00b7708aff8f"
      },
      "source": [
        "### 3. Order frequencies are determined according to the tailored aggregation strategy."
      ]
    },
    {
      "cell_type": "code",
      "execution_count": 6,
      "id": "0f21d501-8022-4a24-b9b2-51cbcd1a57e3",
      "metadata": {
        "colab": {
          "base_uri": "https://localhost:8080/"
        },
        "id": "0f21d501-8022-4a24-b9b2-51cbcd1a57e3",
        "outputId": "6a6ad0b0-b534-41e1-b9d5-1399bc8a9886"
      },
      "outputs": [
        {
          "output_type": "stream",
          "name": "stdout",
          "text": [
            "Multipliers: [1, 1, 2, 3]\n",
            "Baseline frequency: 7.21416654195255\n",
            "Adjusted order sizes for each product: [141.4213562373095, 31.622776601683793, 28.867513459481287, 20.412414523193153]\n",
            "Adjusted frequencies: [7.071067811865475, 9.486832980505138, 3.464101615137755, 2.449489742783178]\n",
            "Optimal frequencies: [7.21416654195255, 7.21416654195255, 3.607083270976275, 2.40472218065085]\n",
            "Optimal order sizes: [138.61615117764455, 41.58484535329337, 27.723230235528913, 20.792422676646687]\n",
            "New holding costs for each product: [693.0807558882228, 249.50907211976022, 83.16969070658674, 62.37726802994007]\n",
            "Total annual costs: 2176.27\n"
          ]
        }
      ],
      "source": [
        "adjusted_order_sizes = [math.sqrt((2 * demand[0] * 100) / (unit_cost[0] * holding_cost_rate))]\n",
        "adjusted_order_sizes.extend([math.sqrt((2 * d * soc) / (uc * holding_cost_rate)) for d, soc, uc in zip(demand[1:], specific_ordering_costs[1:], unit_cost[1:])])\n",
        "\n",
        "adjusted_frequencies = [d / aos for d, aos in zip(demand, adjusted_order_sizes)]\n",
        "\n",
        "multipliers = [round(adjusted_frequencies[0] / freq) for freq in adjusted_frequencies]\n",
        "\n",
        "numerator = sum(holding_cost_rate * unit_cost[i] * demand[i] * multipliers[i] for i in range(len(demand)))\n",
        "denominator = 2 * (common_ordering_cost + sum(specific_ordering_costs[i] / multipliers[i] for i in range(len(demand))))\n",
        "\n",
        "# new order frequency for the most frequently ordered product\n",
        "n = math.sqrt(numerator / denominator)\n",
        "optimal_frequencies = [(n / mult) for mult in multipliers]\n",
        "optimal_order_sizes = [d / f for d, f in zip(demand, optimal_frequencies)]\n",
        "new_holding_costs = [(nos / 2) * holding_cost_rate * uc for nos, uc in zip(optimal_order_sizes, unit_cost)]\n",
        "\n",
        "\n",
        "print(f\"Multipliers: {multipliers}\")\n",
        "print(f\"Baseline frequency: {n}\")\n",
        "print(f\"Adjusted order sizes for each product: {adjusted_order_sizes}\")\n",
        "print(f\"Adjusted frequencies: {adjusted_frequencies}\")\n",
        "print(f\"Optimal frequencies: {optimal_frequencies}\")\n",
        "print(f\"Optimal order sizes: {optimal_order_sizes}\")\n",
        "print(f\"New holding costs for each product: {new_holding_costs}\")\n",
        "# at optimal, holding cost = ordering cost\n",
        "print(f\"Total annual costs: {round(sum(new_holding_costs*2),2)}\")"
      ]
    }
  ],
  "metadata": {
    "kernelspec": {
      "display_name": "Python 3 (ipykernel)",
      "language": "python",
      "name": "python3"
    },
    "language_info": {
      "codemirror_mode": {
        "name": "ipython",
        "version": 3
      },
      "file_extension": ".py",
      "mimetype": "text/x-python",
      "name": "python",
      "nbconvert_exporter": "python",
      "pygments_lexer": "ipython3",
      "version": "3.11.5"
    },
    "colab": {
      "provenance": [],
      "include_colab_link": true
    }
  },
  "nbformat": 4,
  "nbformat_minor": 5
}