{
  "cells": [
    {
      "cell_type": "markdown",
      "metadata": {
        "id": "view-in-github",
        "colab_type": "text"
      },
      "source": [
        "<a href=\"https://colab.research.google.com/github/owgee/supply-chain-analytics/blob/main/Tailored_Sourcing.ipynb\" target=\"_parent\"><img src=\"https://colab.research.google.com/assets/colab-badge.svg\" alt=\"Open In Colab\"/></a>"
      ]
    },
    {
      "cell_type": "markdown",
      "id": "ae9d6adc-75c6-498e-ba17-29655279ec9d",
      "metadata": {
        "id": "ae9d6adc-75c6-498e-ba17-29655279ec9d"
      },
      "source": [
        "### 1. Products are sourced independently;"
      ]
    },
    {
      "cell_type": "code",
      "execution_count": null,
      "id": "5bab3761-c308-48ae-ab2c-a988fcbbdba9",
      "metadata": {
        "id": "5bab3761-c308-48ae-ab2c-a988fcbbdba9",
        "outputId": "8320e630-b505-47f2-a821-c8f8fe35f5e3"
      },
      "outputs": [
        {
          "name": "stdout",
          "output_type": "stream",
          "text": [
            "Product 1 - EOQ: 148.32, Total Cost: 1483.24\n",
            "Product 2 - EOQ: 77.46, Total Cost: 929.52\n",
            "Product 3 - EOQ: 64.55, Total Cost: 387.30\n",
            "Product 4 - EOQ: 45.64, Total Cost: 273.86\n",
            "Total Annual Cost: 3073.92\n"
          ]
        }
      ],
      "source": [
        "import math\n",
        "\n",
        "products = {\n",
        "    'Product 1': {'Demand': 1000, 'Ordering_cost': 10, 'Unit_cost': 50, 'Holding_cost_rate': 0.2},\n",
        "    'Product 2': {'Demand': 300, 'Ordering_cost': 20, 'Unit_cost': 60, 'Holding_cost_rate': 0.2},\n",
        "    'Product 3': {'Demand': 100, 'Ordering_cost': 25, 'Unit_cost': 30, 'Holding_cost_rate': 0.2},\n",
        "    'Product 4': {'Demand': 50, 'Ordering_cost': 25, 'Unit_cost': 30, 'Holding_cost_rate': 0.2},\n",
        "}\n",
        "common_cost = 100;\n",
        "\n",
        "# EOQ Calculation\n",
        "def calculate_eoq(product_info):\n",
        "    D = product_info['Demand']\n",
        "    S = product_info['Ordering_cost'] + common_cost\n",
        "    H = product_info['Unit_cost'] * product_info['Holding_cost_rate']\n",
        "    return math.sqrt((2 * D * S) / H)\n",
        "\n",
        "# Total Cost Calculation for EOQ\n",
        "def calculate_total_cost(product_info, eoq):\n",
        "    D = product_info['Demand']\n",
        "    S = product_info['Ordering_cost'] + common_cost\n",
        "    H = product_info['Unit_cost'] * product_info['Holding_cost_rate']\n",
        "    total_ordering_cost = D * S / eoq\n",
        "    total_holding_cost = eoq * H / 2\n",
        "    return total_ordering_cost + total_holding_cost\n",
        "\n",
        "# Calculate EOQ and total cost for each product\n",
        "total_annual_cost=0\n",
        "for product in products:\n",
        "    eoq = calculate_eoq(products[product])\n",
        "    total_cost = calculate_total_cost(products[product], eoq)\n",
        "    total_annual_cost += total_cost\n",
        "    print(f\"{product} - EOQ: {eoq:.2f}, Total Cost: {total_cost:.2f}\")\n",
        "print(f\"Total Annual Cost: {total_annual_cost:.2f}\")"
      ]
    },
    {
      "cell_type": "markdown",
      "id": "df723a2b-56a9-4a06-bbcd-f36e78d783b3",
      "metadata": {
        "id": "df723a2b-56a9-4a06-bbcd-f36e78d783b3"
      },
      "source": [
        "### 2. All four products are sourced with the same frequency;"
      ]
    },
    {
      "cell_type": "code",
      "execution_count": null,
      "id": "1f56fb68-8446-492e-961e-7243be022140",
      "metadata": {
        "id": "1f56fb68-8446-492e-961e-7243be022140",
        "outputId": "84622703-b5ed-4f18-b519-1615a1e9f677"
      },
      "outputs": [
        {
          "name": "stdout",
          "output_type": "stream",
          "text": [
            "The annual total cost is: 2284.73\n"
          ]
        }
      ],
      "source": [
        "import numpy as np\n",
        "\n",
        "# Given data from the problem statement\n",
        "demand = [1000, 300, 100, 50]\n",
        "specific_ordering_costs = [10, 20, 25, 25]\n",
        "unit_cost = [50, 60, 30, 30]\n",
        "holding_cost_rate = 0.2\n",
        "common_ordering_cost = 100   # Provided common ordering cost\n",
        "\n",
        "# Calculate the total demand times holding cost times unit cost\n",
        "total_d_h_c = sum(d * uc * holding_cost_rate for d, uc in zip(demand, unit_cost))\n",
        "\n",
        "# Calculate the total specific ordering costs\n",
        "total_specific_ordering_cost = sum(specific_ordering_costs)\n",
        "S = common_ordering_cost + total_specific_ordering_cost\n",
        "\n",
        "# Calculate n*, the order frequency using the provided common ordering cost and total specific ordering costs\n",
        "n_star = np.sqrt((total_d_h_c) / (2 * S))\n",
        "\n",
        "annual_total_cost = n_star * 2 * S\n",
        "print(f\"The annual total cost is: {annual_total_cost:.2f}\")"
      ]
    },
    {
      "cell_type": "markdown",
      "id": "bb0b8144-7fed-4cea-849f-00b7708aff8f",
      "metadata": {
        "id": "bb0b8144-7fed-4cea-849f-00b7708aff8f"
      },
      "source": [
        "### 3. Order frequencies are determined according to the tailored aggregation strategy."
      ]
    },
    {
      "cell_type": "code",
      "execution_count": null,
      "id": "0f21d501-8022-4a24-b9b2-51cbcd1a57e3",
      "metadata": {
        "id": "0f21d501-8022-4a24-b9b2-51cbcd1a57e3"
      },
      "outputs": [],
      "source": []
    }
  ],
  "metadata": {
    "kernelspec": {
      "display_name": "Python 3 (ipykernel)",
      "language": "python",
      "name": "python3"
    },
    "language_info": {
      "codemirror_mode": {
        "name": "ipython",
        "version": 3
      },
      "file_extension": ".py",
      "mimetype": "text/x-python",
      "name": "python",
      "nbconvert_exporter": "python",
      "pygments_lexer": "ipython3",
      "version": "3.11.5"
    },
    "colab": {
      "provenance": [],
      "include_colab_link": true
    }
  },
  "nbformat": 4,
  "nbformat_minor": 5
}